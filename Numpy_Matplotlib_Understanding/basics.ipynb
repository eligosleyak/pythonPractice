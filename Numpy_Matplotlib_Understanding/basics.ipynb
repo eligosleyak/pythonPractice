{
 "cells": [
  {
   "cell_type": "code",
   "execution_count": null,
   "metadata": {},
   "outputs": [],
   "source": [
    "import random\n",
    "import matplotlib.pyplot as plt\n",
    "import numpy as np"
   ]
  },
  {
   "cell_type": "code",
   "execution_count": null,
   "metadata": {},
   "outputs": [],
   "source": [
    "x = [10,20,30]\n",
    "y = [10,20,30]\n",
    "\n",
    "plt.plot(x,y)\n",
    "plt.xlabel('X')\n",
    "plt.ylabel('Y')"
   ]
  },
  {
   "cell_type": "markdown",
   "metadata": {},
   "source": [
    "x = [get numbers from -100 to 100]<br>\n",
    "y = create4 a function that does the following<br>\n",
    "</t>    y = x**2/4*a [a=1 by default]<br>\n",
    "plot x and y and check what kind of graph it becomes"
   ]
  },
  {
   "cell_type": "code",
   "execution_count": null,
   "metadata": {},
   "outputs": [],
   "source": [
    "x = np.arange(-101,100)\n",
    "\n",
    "Y = lambda x: (x**2)/4\n",
    "\n",
    "y = [Y(i) for i in x]\n",
    "\n",
    "plt.plot(x,y)"
   ]
  },
  {
   "cell_type": "markdown",
   "metadata": {},
   "source": [
    "Scatter Plot"
   ]
  },
  {
   "cell_type": "code",
   "execution_count": 10,
   "metadata": {},
   "outputs": [
    {
     "data": {
      "text/plain": [
       "Text(0, 0.5, 'Science')"
      ]
     },
     "execution_count": 10,
     "metadata": {},
     "output_type": "execute_result"
    },
    {
     "data": {
      "image/png": "[encoded data removed]",
      "text/plain": [
       "<Figure size 640x480 with 1 Axes>"
      ]
     },
     "metadata": {},
     "output_type": "display_data"
    }
   ],
   "source": [
    "students = ['Ram', 'Sita', 'Hari', 'Prasad']\n",
    "maths = [50,60,70,80]\n",
    "science = [80,60,70,80]\n",
    "\n",
    "plt.scatter(maths, science, color = 'Red')\n",
    "plt.grid()\n",
    "plt.xlabel('Maths')\n",
    "plt.ylabel('Science')"
   ]
  },
  {
   "cell_type": "markdown",
   "metadata": {},
   "source": [
    "<h5>Phase 1</h5>\n",
    "WAP that asks for n<br>\n",
    "first asks the name of students, marks in mathematics, marks in science<br>\n",
    "create a dataframe at the end and then dump it as data_student.csv<br>\n",
    "<h5>Phase 2</h5>\n",
    "Then in another cell read the csv file from data_student.csv<br>\n",
    "Scatter plot the marks of each student in mathematics and Science<br>"
   ]
  },
  {
   "cell_type": "code",
   "execution_count": 17,
   "metadata": {},
   "outputs": [],
   "source": [
    "import pandas as pd"
   ]
  },
  {
   "cell_type": "code",
   "execution_count": 19,
   "metadata": {},
   "outputs": [],
   "source": [
    "n = int(input(\"Enter no of students: \"))\n",
    "names = [input(f'Enter name for {i+1}: ') for i in range(n)]\n",
    "maths = [int(input(f'Enter maths score for {i+1}: ')) for i in range(n)]\n",
    "science = [int(input(f'Enter name for {i+1}: ')) for i in range(n)]\n",
    "\n",
    "students_scores = {names[i]: {'maths': maths[i], 'science': science[i]} for i in range(n)}\n",
    "\n",
    "df = pd.DataFrame(students_scores)\n",
    "df.to_csv(\"database.csv\")"
   ]
  },
  {
   "cell_type": "code",
   "execution_count": null,
   "metadata": {},
   "outputs": [],
   "source": [
    "data = pd.read_csv(\"D:\\Hackademia\\pythonPractice\\Numpy_Matplotlib_Understanding\\database.csv\")\n",
    "\n",
    "plt.scatter(data['maths',data['science']])"
   ]
  }
 ],
 "metadata": {
  "kernelspec": {
   "display_name": "venv",
   "language": "python",
   "name": "python3"
  },
  "language_info": {
   "codemirror_mode": {
    "name": "ipython",
    "version": 3
   },
   "file_extension": ".py",
   "mimetype": "text/x-python",
   "name": "python",
   "nbconvert_exporter": "python",
   "pygments_lexer": "ipython3",
   "version": "3.12.5"
  }
 },
 "nbformat": 4,
 "nbformat_minor": 2
}
